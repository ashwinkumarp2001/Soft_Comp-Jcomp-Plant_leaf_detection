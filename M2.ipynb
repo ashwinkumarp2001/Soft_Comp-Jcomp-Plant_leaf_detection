{
 "cells": [
  {
   "cell_type": "markdown",
   "metadata": {},
   "source": [
    "# To implementation of CNN model accuracy:"
   ]
  },
  {
   "cell_type": "code",
   "execution_count": 1,
   "metadata": {},
   "outputs": [],
   "source": [
    "import os\n",
    "import numpy as np # linear algebra\n",
    "import pandas as pd # data processing, CSV file I/O (e.g. pd.read_csv)\n",
    "import random\n",
    "import cv2\n",
    "import matplotlib.pyplot as plt"
   ]
  },
  {
   "cell_type": "code",
   "execution_count": 2,
   "metadata": {},
   "outputs": [
    {
     "name": "stderr",
     "output_type": "stream",
     "text": [
      "C:\\Users\\ashwi\\Anaconda3\\lib\\site-packages\\h5py\\__init__.py:36: FutureWarning: Conversion of the second argument of issubdtype from `float` to `np.floating` is deprecated. In future, it will be treated as `np.float64 == np.dtype(float).type`.\n",
      "  from ._conv import register_converters as _register_converters\n"
     ]
    }
   ],
   "source": [
    "# Dl framwork - tensorflow, keras a backend \n",
    "import tensorflow as tf\n",
    "import tensorflow.keras.backend as K\n",
    "from tensorflow.keras.models import Model, Sequential\n",
    "from tensorflow.keras.layers import Input, Dense, Flatten, Dropout, BatchNormalization \n",
    "from tensorflow.keras.layers import Conv2D, SeparableConv2D, MaxPool2D, LeakyReLU, Activation\n",
    "from tensorflow.keras.optimizers import Adam\n",
    "from tensorflow.keras.preprocessing.image import ImageDataGenerator\n",
    "from tensorflow.keras.callbacks import ModelCheckpoint, ReduceLROnPlateau, EarlyStopping\n",
    "from IPython.display import display\n",
    "from os import listdir\n",
    "from os.path import isfile, join\n",
    "from PIL import Image\n",
    "import glob\n",
    "from tensorflow.keras.preprocessing.image import ImageDataGenerator\n",
    "from tensorflow.keras.layers import Convolution2D\n",
    "from tensorflow.keras.layers import MaxPooling2D\n",
    "from tensorflow.keras.layers import Flatten\n",
    "from tensorflow.keras.layers import Dense"
   ]
  },
  {
   "cell_type": "code",
   "execution_count": 3,
   "metadata": {},
   "outputs": [],
   "source": [
    "import warnings\n",
    "warnings.filterwarnings('ignore')"
   ]
  },
  {
   "cell_type": "code",
   "execution_count": 4,
   "metadata": {},
   "outputs": [],
   "source": [
    "Classifier=Sequential()"
   ]
  },
  {
   "cell_type": "code",
   "execution_count": 5,
   "metadata": {},
   "outputs": [
    {
     "name": "stdout",
     "output_type": "stream",
     "text": [
      "WARNING:tensorflow:From C:\\Users\\ashwi\\Anaconda3\\lib\\site-packages\\tensorflow\\python\\ops\\resource_variable_ops.py:435: colocate_with (from tensorflow.python.framework.ops) is deprecated and will be removed in a future version.\n",
      "Instructions for updating:\n",
      "Colocations handled automatically by placer.\n"
     ]
    }
   ],
   "source": [
    "Classifier.add(Convolution2D(32,(3,3),input_shape=(128,128,3),activation='relu'))\n",
    "Classifier.add(MaxPooling2D(pool_size=(2,2)))"
   ]
  },
  {
   "cell_type": "code",
   "execution_count": 6,
   "metadata": {},
   "outputs": [],
   "source": [
    "Classifier.add(Flatten())\n",
    "Classifier.add(Dense(38, activation='relu'))"
   ]
  },
  {
   "cell_type": "code",
   "execution_count": 7,
   "metadata": {},
   "outputs": [],
   "source": [
    "Classifier.add(Dense(38, activation='softmax'))\n",
    "Classifier.compile(optimizer='rmsprop',loss='categorical_crossentropy',metrics=['accuracy'])"
   ]
  },
  {
   "cell_type": "code",
   "execution_count": 8,
   "metadata": {},
   "outputs": [],
   "source": [
    "train_datagen=ImageDataGenerator(rescale=1./255,shear_range=0.2,zoom_range=0.2,horizontal_flip=True)\n",
    "test_datagen=ImageDataGenerator(rescale=1./255)"
   ]
  },
  {
   "cell_type": "code",
   "execution_count": 9,
   "metadata": {},
   "outputs": [
    {
     "name": "stdout",
     "output_type": "stream",
     "text": [
      "Found 6688 images belonging to 38 classes.\n",
      "Found 6688 images belonging to 38 classes.\n"
     ]
    }
   ],
   "source": [
    "training_set=train_datagen.flow_from_directory('dataset/train',target_size=(128,128),batch_size=32,class_mode='categorical')\n",
    "test_set=test_datagen.flow_from_directory('dataset/valid',target_size=(128,128),batch_size=32,class_mode='categorical')"
   ]
  },
  {
   "cell_type": "code",
   "execution_count": 10,
   "metadata": {},
   "outputs": [],
   "source": [
    "img_dims = 150\n",
    "epochs = 10\n",
    "batch_size = 4"
   ]
  },
  {
   "cell_type": "code",
   "execution_count": 11,
   "metadata": {},
   "outputs": [
    {
     "name": "stdout",
     "output_type": "stream",
     "text": [
      "WARNING:tensorflow:From C:\\Users\\ashwi\\Anaconda3\\lib\\site-packages\\tensorflow\\python\\ops\\math_ops.py:3066: to_int32 (from tensorflow.python.ops.math_ops) is deprecated and will be removed in a future version.\n",
      "Instructions for updating:\n",
      "Use tf.cast instead.\n",
      "Epoch 1/10\n",
      "209/209 [==============================] - 96s 459ms/step - loss: 2.3399 - acc: 0.3481\n",
      "209/209 [==============================] - 325s 2s/step - loss: 3.4064 - acc: 0.1642 - val_loss: 2.3399 - val_acc: 0.3481\n",
      "Epoch 2/10\n",
      "209/209 [==============================] - 23s 108ms/step - loss: 1.2649 - acc: 0.6447\n",
      "209/209 [==============================] - 128s 614ms/step - loss: 1.9807 - acc: 0.4489 - val_loss: 1.2649 - val_acc: 0.6447\n",
      "Epoch 3/10\n",
      "209/209 [==============================] - 23s 112ms/step - loss: 0.7968 - acc: 0.7715\n",
      "209/209 [==============================] - 91s 435ms/step - loss: 1.2793 - acc: 0.6365 - val_loss: 0.7968 - val_acc: 0.7715\n",
      "Epoch 4/10\n",
      "209/209 [==============================] - 25s 119ms/step - loss: 0.8447 - acc: 0.7512\n",
      "209/209 [==============================] - 92s 438ms/step - loss: 0.8672 - acc: 0.7509 - val_loss: 0.8447 - val_acc: 0.7512\n",
      "Epoch 5/10\n",
      "209/209 [==============================] - 24s 115ms/step - loss: 0.2922 - acc: 0.9318\n",
      "209/209 [==============================] - 91s 434ms/step - loss: 0.5900 - acc: 0.8283 - val_loss: 0.2922 - val_acc: 0.9318\n",
      "Epoch 6/10\n",
      "209/209 [==============================] - 23s 112ms/step - loss: 0.2429 - acc: 0.9199\n",
      "209/209 [==============================] - 90s 431ms/step - loss: 0.4331 - acc: 0.8747 - val_loss: 0.2429 - val_acc: 0.9199\n",
      "Epoch 7/10\n",
      "209/209 [==============================] - 23s 111ms/step - loss: 0.2170 - acc: 0.9366\n",
      "209/209 [==============================] - 90s 432ms/step - loss: 0.3178 - acc: 0.9085 - val_loss: 0.2170 - val_acc: 0.9366\n",
      "Epoch 8/10\n",
      "209/209 [==============================] - 26s 123ms/step - loss: 0.0677 - acc: 0.9809\n",
      "209/209 [==============================] - 93s 447ms/step - loss: 0.2376 - acc: 0.9338 - val_loss: 0.0677 - val_acc: 0.9809\n",
      "Epoch 9/10\n",
      "209/209 [==============================] - 25s 117ms/step - loss: 0.0554 - acc: 0.9880\n",
      "209/209 [==============================] - 91s 436ms/step - loss: 0.1835 - acc: 0.9475 - val_loss: 0.0554 - val_acc: 0.9880\n",
      "Epoch 10/10\n",
      "209/209 [==============================] - 23s 112ms/step - loss: 0.0613 - acc: 0.9797\n",
      "209/209 [==============================] - 91s 434ms/step - loss: 0.1344 - acc: 0.9608 - val_loss: 0.0613 - val_acc: 0.9797\n"
     ]
    }
   ],
   "source": [
    "#### Fitting the model\n",
    "history = Classifier.fit_generator(\n",
    "           training_set, steps_per_epoch=training_set.samples // batch_size, \n",
    "           epochs=epochs, \n",
    "           validation_data=test_set,validation_steps=test_set.samples // batch_size)"
   ]
  },
  {
   "cell_type": "code",
   "execution_count": 12,
   "metadata": {},
   "outputs": [
    {
     "name": "stdout",
     "output_type": "stream",
     "text": [
      "[INFO] Calculating model accuracy\n",
      "209/209 [==============================] - 22s 103ms/step - loss: 0.0613 - acc: 0.9797\n",
      "Test Accuracy: 97.96651005744934\n"
     ]
    }
   ],
   "source": [
    "print(\"[INFO] Calculating model accuracy\")\n",
    "scores = Classifier.evaluate(test_set)\n",
    "print(f\"Test Accuracy: {scores[1]*100}\")"
   ]
  },
  {
   "cell_type": "code",
   "execution_count": null,
   "metadata": {},
   "outputs": [],
   "source": []
  },
  {
   "cell_type": "code",
   "execution_count": null,
   "metadata": {},
   "outputs": [],
   "source": []
  },
  {
   "cell_type": "code",
   "execution_count": null,
   "metadata": {},
   "outputs": [],
   "source": []
  }
 ],
 "metadata": {
  "kernelspec": {
   "display_name": "Python 3",
   "language": "python",
   "name": "python3"
  },
  "language_info": {
   "codemirror_mode": {
    "name": "ipython",
    "version": 3
   },
   "file_extension": ".py",
   "mimetype": "text/x-python",
   "name": "python",
   "nbconvert_exporter": "python",
   "pygments_lexer": "ipython3",
   "version": "3.6.4"
  }
 },
 "nbformat": 4,
 "nbformat_minor": 2
}
